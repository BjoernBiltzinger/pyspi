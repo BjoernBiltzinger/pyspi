{
 "cells": [
  {
   "cell_type": "code",
   "execution_count": 10,
   "metadata": {},
   "outputs": [],
   "source": [
    "from spi_pointing import *\n",
    "src_ra, src_dec = 197.075, 58.9803"
   ]
  },
  {
   "cell_type": "code",
   "execution_count": 11,
   "metadata": {},
   "outputs": [],
   "source": [
    "pointing = SPIPointing('data/sc_orbit_param.fits.gz')"
   ]
  },
  {
   "cell_type": "code",
   "execution_count": 12,
   "metadata": {},
   "outputs": [
    {
     "data": {
      "text/plain": [
       "{'scx_dec': 50.62978415437832,\n",
       " 'scx_ra': 206.325684140497,\n",
       " 'scy_dec': 32.531707791283644,\n",
       " 'scy_ra': 65.30682581387076,\n",
       " 'scz_dec': -19.65907591233234,\n",
       " 'scz_ra': 142.1351838655382}"
      ]
     },
     "execution_count": 12,
     "metadata": {},
     "output_type": "execute_result"
    }
   ],
   "source": [
    "pointing.sc_points[4]"
   ]
  },
  {
   "cell_type": "code",
   "execution_count": 17,
   "metadata": {},
   "outputs": [],
   "source": [
    "pointing._calc_zenazi(src_ra,src_dec)"
   ]
  },
  {
   "cell_type": "code",
   "execution_count": null,
   "metadata": {},
   "outputs": [],
   "source": []
  },
  {
   "cell_type": "code",
   "execution_count": null,
   "metadata": {},
   "outputs": [],
   "source": []
  },
  {
   "cell_type": "code",
   "execution_count": null,
   "metadata": {},
   "outputs": [],
   "source": []
  },
  {
   "cell_type": "code",
   "execution_count": 14,
   "metadata": {},
   "outputs": [],
   "source": [
    "from spi_frame import *"
   ]
  },
  {
   "cell_type": "code",
   "execution_count": null,
   "metadata": {},
   "outputs": [],
   "source": []
  },
  {
   "cell_type": "code",
   "execution_count": 15,
   "metadata": {},
   "outputs": [],
   "source": [
    "spi = SPIFrame()"
   ]
  },
  {
   "cell_type": "code",
   "execution_count": 17,
   "metadata": {},
   "outputs": [
    {
     "name": "stdout",
     "output_type": "stream",
     "text": [
      "None\n"
     ]
    }
   ],
   "source": [
    "print spi.scx_dec"
   ]
  },
  {
   "cell_type": "code",
   "execution_count": 18,
   "metadata": {},
   "outputs": [],
   "source": [
    "from pyspi import SPIResponse"
   ]
  },
  {
   "cell_type": "code",
   "execution_count": 19,
   "metadata": {},
   "outputs": [
    {
     "name": "stderr",
     "output_type": "stream",
     "text": [
      "\n",
      "WARNING H5pyDeprecationWarning: dataset.value has been deprecated. Use dataset[()] instead.\n",
      "\n"
     ]
    }
   ],
   "source": [
    "spi = SPIResponse()"
   ]
  },
  {
   "cell_type": "code",
   "execution_count": 20,
   "metadata": {},
   "outputs": [
    {
     "data": {
      "text/plain": [
       "array([  20.   ,   22.55 ,   25.42 ,   28.65 ,   32.3  ,   36.41 ,\n",
       "         41.05 ,   46.27 ,   52.16 ,   58.8  ,   66.29 ,   74.73 ,\n",
       "         84.241,   94.965,  107.05 ,  120.68 ,  136.05 ,  153.37 ,\n",
       "        172.89 ,  194.9  ,  219.71 ,  247.68 ,  279.21 ,  314.76 ,\n",
       "        354.83 ,  400.   ,  450.92 ,  508.33 ,  573.04 ,  645.99 ,\n",
       "        728.23 ,  820.93 ,  925.44 , 1043.25 , 1176.06 , 1325.78 ,\n",
       "       1494.56 , 1684.82 , 1899.31 , 2141.1  , 2413.67 , 2720.94 ,\n",
       "       3067.33 , 3457.81 , 3898.01 , 4394.24 , 4953.65 , 5584.27 ,\n",
       "       6295.17 , 7096.57 , 8000.   ])"
      ]
     },
     "execution_count": 20,
     "metadata": {},
     "output_type": "execute_result"
    }
   ],
   "source": [
    "spi.energies"
   ]
  },
  {
   "cell_type": "code",
   "execution_count": 27,
   "metadata": {},
   "outputs": [
    {
     "data": {
      "text/plain": [
       "(66.74447823181328, 45.90136659715276)"
      ]
     },
     "execution_count": 27,
     "metadata": {},
     "output_type": "execute_result"
    }
   ],
   "source": [
    "spi.get_xy_pos(356.8152*np.pi/180.,9.88751*np.pi/180.)"
   ]
  },
  {
   "cell_type": "code",
   "execution_count": 23,
   "metadata": {},
   "outputs": [
    {
     "data": {
      "text/plain": [
       "{'scx_dec': 50.62978415437832,\n",
       " 'scx_ra': 206.325684140497,\n",
       " 'scy_dec': 32.531707791283644,\n",
       " 'scy_ra': 65.30682581387076,\n",
       " 'scz_dec': -19.65907591233234,\n",
       " 'scz_ra': 142.1351838655382}"
      ]
     },
     "execution_count": 23,
     "metadata": {},
     "output_type": "execute_result"
    }
   ],
   "source": [
    "pointing.sc_points[4]"
   ]
  },
  {
   "cell_type": "code",
   "execution_count": 34,
   "metadata": {},
   "outputs": [],
   "source": [
    "spiframe = SPIFrame()"
   ]
  },
  {
   "cell_type": "code",
   "execution_count": 35,
   "metadata": {},
   "outputs": [
    {
     "name": "stdout",
     "output_type": "stream",
     "text": [
      "None\n"
     ]
    }
   ],
   "source": [
    "print(spiframe.scz_ra)"
   ]
  },
  {
   "cell_type": "code",
   "execution_count": 40,
   "metadata": {},
   "outputs": [],
   "source": [
    "aeff = spi.effective_area_per_detector(azimuth=0,zenith=0)"
   ]
  },
  {
   "cell_type": "code",
   "execution_count": 49,
   "metadata": {},
   "outputs": [
    {
     "name": "stdout",
     "output_type": "stream",
     "text": [
      "(51, 85)\n"
     ]
    }
   ],
   "source": [
    "print(np.shape(aeff))"
   ]
  },
  {
   "cell_type": "code",
   "execution_count": 45,
   "metadata": {},
   "outputs": [],
   "source": [
    "import matplotlib.pyplot as plt"
   ]
  },
  {
   "cell_type": "code",
   "execution_count": 46,
   "metadata": {},
   "outputs": [],
   "source": [
    "import numpy"
   ]
  },
  {
   "cell_type": "code",
   "execution_count": 74,
   "metadata": {},
   "outputs": [
    {
     "data": {
      "text/plain": [
       "Text(0,0.5,'Effective Area [cm$^2$]')"
      ]
     },
     "execution_count": 74,
     "metadata": {},
     "output_type": "execute_result"
    },
    {
     "data": {
      "image/png": "[encoded data removed]",
      "text/plain": [
       "<Figure size 432x288 with 1 Axes>"
      ]
     },
     "metadata": {
      "needs_background": "light"
     },
     "output_type": "display_data"
    }
   ],
   "source": [
    "plt.plot(spi.energies,aeff[:,3],'-ro')\n",
    "plt.plot(spi.energies,aeff[:,4],'-bo')\n",
    "plt.plot(spi.energies,aeff[:,13],'-go')\n",
    "plt.plot(spi.energies,aeff[:,13],'-yo')\n",
    "plt.xscale('log')\n",
    "plt.yscale('log')\n",
    "plt.ylim([1e-4,1e2])\n",
    "plt.xlim([1e1,1e4])\n",
    "plt.xlabel('Energy [keV]')\n",
    "plt.ylabel('Effective Area [cm$^2$]')"
   ]
  },
  {
   "cell_type": "code",
   "execution_count": 54,
   "metadata": {},
   "outputs": [
    {
     "name": "stdout",
     "output_type": "stream",
     "text": [
      "[0.5546993  1.1596694  2.11970711 3.03839946 3.82523942 4.40812302\n",
      " 5.00977755 5.51315451 6.12737322 6.7068572  7.07098055 7.26316404\n",
      " 7.48889875 7.67045641 7.83218527 7.82144594 7.84927893 7.82860661\n",
      " 7.70566988 7.31378031 6.96544552 6.63324785 6.16417122 5.83517551\n",
      " 5.43026161 5.05993462 4.81376266 4.56389856 4.35287809 4.12047768\n",
      " 3.8193121  3.59938312 3.40269566 3.20258331 3.01523876 2.82658887\n",
      " 2.58724236 2.43285489 2.27853966 2.06777692 1.96628463 1.73148632\n",
      " 1.57953775 1.46082628 1.25542259 1.07721508 1.04826415 0.90534157\n",
      " 0.72642767 0.62304127 0.54582632]\n"
     ]
    }
   ],
   "source": [
    "print(aeff[:,0])"
   ]
  },
  {
   "cell_type": "code",
   "execution_count": 80,
   "metadata": {},
   "outputs": [
    {
     "data": {
      "text/plain": [
       "50.62978415437832"
      ]
     },
     "execution_count": 80,
     "metadata": {},
     "output_type": "execute_result"
    }
   ],
   "source": [
    "pointing.sc_points[4]['scx_dec']"
   ]
  },
  {
   "cell_type": "code",
   "execution_count": 89,
   "metadata": {},
   "outputs": [
    {
     "name": "stdout",
     "output_type": "stream",
     "text": [
      "1.0\n"
     ]
    }
   ],
   "source": [
    "print(np.rad2deg(np.deg2rad(1)))"
   ]
  },
  {
   "cell_type": "code",
   "execution_count": 88,
   "metadata": {},
   "outputs": [
    {
     "ename": "ValueError",
     "evalue": "invalid number of arguments",
     "output_type": "error",
     "traceback": [
      "\u001b[0;31m---------------------------------------------------------------------------\u001b[0m",
      "\u001b[0;31mValueError\u001b[0m                                Traceback (most recent call last)",
      "\u001b[0;32m<ipython-input-88-08ec863c83f5>\u001b[0m in \u001b[0;36m<module>\u001b[0;34m()\u001b[0m\n\u001b[0;32m----> 1\u001b[0;31m \u001b[0;32mprint\u001b[0m\u001b[0;34m(\u001b[0m\u001b[0mnp\u001b[0m\u001b[0;34m.\u001b[0m\u001b[0marcsin\u001b[0m\u001b[0;34m(\u001b[0m\u001b[0;34m)\u001b[0m\u001b[0;34m)\u001b[0m\u001b[0;34m\u001b[0m\u001b[0m\n\u001b[0m",
      "\u001b[0;31mValueError\u001b[0m: invalid number of arguments"
     ]
    }
   ],
   "source": [
    "print(np.arcsin())"
   ]
  },
  {
   "cell_type": "code",
   "execution_count": 92,
   "metadata": {},
   "outputs": [
    {
     "ename": "ValueError",
     "evalue": "invalid number of arguments",
     "output_type": "error",
     "traceback": [
      "\u001b[0;31m---------------------------------------------------------------------------\u001b[0m",
      "\u001b[0;31mValueError\u001b[0m                                Traceback (most recent call last)",
      "\u001b[0;32m<ipython-input-92-0937aadd099d>\u001b[0m in \u001b[0;36m<module>\u001b[0;34m()\u001b[0m\n\u001b[0;32m----> 1\u001b[0;31m \u001b[0mnp\u001b[0m\u001b[0;34m.\u001b[0m\u001b[0marctan2\u001b[0m\u001b[0;34m(\u001b[0m\u001b[0;36m0.5\u001b[0m\u001b[0;34m)\u001b[0m\u001b[0;34m\u001b[0m\u001b[0m\n\u001b[0m",
      "\u001b[0;31mValueError\u001b[0m: invalid number of arguments"
     ]
    }
   ],
   "source": [
    "np.arctan2(0.5)"
   ]
  },
  {
   "cell_type": "code",
   "execution_count": null,
   "metadata": {},
   "outputs": [],
   "source": []
  }
 ],
 "metadata": {
  "kernelspec": {
   "display_name": "Python 2",
   "language": "python",
   "name": "python2"
  },
  "language_info": {
   "codemirror_mode": {
    "name": "ipython",
    "version": 2
   },
   "file_extension": ".py",
   "mimetype": "text/x-python",
   "name": "python",
   "nbconvert_exporter": "python",
   "pygments_lexer": "ipython2",
   "version": "2.7.15"
  }
 },
 "nbformat": 4,
 "nbformat_minor": 2
}
