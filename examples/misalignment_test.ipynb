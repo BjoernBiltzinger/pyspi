{
 "cells": [
  {
   "cell_type": "code",
   "execution_count": 1,
   "metadata": {
    "ExecuteTime": {
     "end_time": "2018-02-16T09:37:27.330209Z",
     "start_time": "2018-02-16T09:37:27.319436Z"
    }
   },
   "outputs": [
    {
     "name": "stderr",
     "output_type": "stream",
     "text": [
      "/home/tsiegert/miniconda2/envs/threeML/lib/python2.7/site-packages/h5py/__init__.py:36: FutureWarning: Conversion of the second argument of issubdtype from `float` to `np.floating` is deprecated. In future, it will be treated as `np.float64 == np.dtype(float).type`.\n",
      "  from ._conv import register_converters as _register_converters\n",
      "\n",
      "WARNING UserWarning: Using default configuration from /home/tsiegert/miniconda2/envs/threeML/lib/python2.7/site-packages/threeML/data/threeML_config.yml. You might want to copy it to /home/tsiegert/.threeML/threeML_config.yml to customize it and avoid this warning.\n",
      "\n"
     ]
    }
   ],
   "source": [
    "# Scientific libraries\n",
    "import numpy as np\n",
    "\n",
    "#matplotlib notebook\n",
    "import matplotlib.pyplot as plt\n",
    "\n",
    "import astropy.io.fits as fits\n",
    "\n",
    "import astropy.units as u\n",
    "from astropy.coordinates import ICRS, Galactic, SkyCoord\n",
    "\n",
    "from pyspi.spi_pointing import SPIPointing\n",
    "from pyspi.spi_frame import SPIFrame\n",
    "\n",
    "from pyspi.utils.geometry import cart2polar, polar2cart"
   ]
  },
  {
   "cell_type": "code",
   "execution_count": 2,
   "metadata": {
    "ExecuteTime": {
     "end_time": "2018-02-16T09:34:57.122894Z",
     "start_time": "2018-02-16T09:34:56.909456Z"
    }
   },
   "outputs": [],
   "source": [
    "spi_pointing = SPIPointing(sc_pointing_file='sc_orbit_param.fits.gz')\n",
    "sc_point = spi_pointing.sc_matrix[0]\n",
    "scp = spi_pointing.sc_points[0]"
   ]
  },
  {
   "cell_type": "code",
   "execution_count": 3,
   "metadata": {},
   "outputs": [],
   "source": [
    "maf = fits.open('inst_misalign_20050328.fits')\n",
    "\n",
    "mam = np.reshape(maf[1].data[2]['matrix'],[3,3])"
   ]
  },
  {
   "cell_type": "code",
   "execution_count": 4,
   "metadata": {},
   "outputs": [
    {
     "name": "stdout",
     "output_type": "stream",
     "text": [
      "Misalignment matrix\n",
      "[[ 9.99997136e-01  2.65497922e-04 -2.37837002e-03]\n",
      " [-2.69012020e-04  9.99998873e-01 -1.47732581e-03]\n",
      " [ 2.37797511e-03  1.47796139e-03  9.99996080e-01]]\n"
     ]
    }
   ],
   "source": [
    "print('Misalignment matrix')\n",
    "print(mam)"
   ]
  },
  {
   "cell_type": "code",
   "execution_count": 5,
   "metadata": {},
   "outputs": [
    {
     "name": "stdout",
     "output_type": "stream",
     "text": [
      "space craft xyz before\n",
      "[[-0.57041035 -0.28013682  0.772111  ]\n",
      " [ 0.35096277  0.76677282  0.53747984]\n",
      " [-0.74260155  0.57756631 -0.33905765]]\n",
      "space craft radec_xyz before\n"
     ]
    },
    {
     "data": {
      "text/plain": [
       "{'scx_dec': 50.5438346862793,\n",
       " 'scx_ra': 206.1563262939453,\n",
       " 'scy_dec': 32.51224513331057,\n",
       " 'scy_ra': 65.40575996001127,\n",
       " 'scz_dec': -19.81947135925293,\n",
       " 'scz_ra': 142.12562561035156}"
      ]
     },
     "execution_count": 5,
     "metadata": {},
     "output_type": "execute_result"
    }
   ],
   "source": [
    "print('space craft xyz before')\n",
    "print(sc_point)\n",
    "\n",
    "print('space craft radec_xyz before')\n",
    "scp"
   ]
  },
  {
   "cell_type": "code",
   "execution_count": 6,
   "metadata": {},
   "outputs": [],
   "source": [
    "sc_point_new = np.dot(mam,sc_point)"
   ]
  },
  {
   "cell_type": "code",
   "execution_count": 7,
   "metadata": {},
   "outputs": [
    {
     "name": "stdout",
     "output_type": "stream",
     "text": [
      "space craft xyz after\n",
      "[[-0.56854936 -0.28130611  0.77305789]\n",
      " [ 0.35221288  0.76599406  0.53777243]\n",
      " [-0.74343635  0.57803115 -0.33642588]]\n",
      "space craft radec_xyz after\n",
      "calculated frame with misalignment matrix\n"
     ]
    },
    {
     "data": {
      "text/plain": [
       "array([[206.32522477,  50.62928435],\n",
       "       [ 65.30648408,  32.53212683],\n",
       "       [142.13448347, -19.65926861]])"
      ]
     },
     "execution_count": 7,
     "metadata": {},
     "output_type": "execute_result"
    }
   ],
   "source": [
    "print('space craft xyz after')\n",
    "print(sc_point_new)\n",
    "print('space craft radec_xyz after')\n",
    "\n",
    "scp_new = np.zeros((3,2))\n",
    "\n",
    "scp_new[0] = np.array([360,0]) + cart2polar(sc_point_new[0])\n",
    "scp_new[1] = cart2polar(sc_point_new[1])\n",
    "scp_new[2] = cart2polar(sc_point_new[2])\n",
    "\n",
    "#scp_new[0,:] = cart2polar(sc_point_new[0])\n",
    "\n",
    "print('calculated frame with misalignment matrix')\n",
    "scp_new"
   ]
  },
  {
   "cell_type": "code",
   "execution_count": 11,
   "metadata": {},
   "outputs": [
    {
     "name": "stdout",
     "output_type": "stream",
     "text": [
      "\"true\" frame from spimodfit output (probably rounded)\n"
     ]
    },
    {
     "data": {
      "text/plain": [
       "array([[206.326 ,  50.6298],\n",
       "       [ 65.3068,  32.5317],\n",
       "       [142.135 , -19.6591]])"
      ]
     },
     "execution_count": 11,
     "metadata": {},
     "output_type": "execute_result"
    }
   ],
   "source": [
    "print('\"true\" frame from spimodfit output (probably rounded)')\n",
    "scp_true = np.array([[206.32600,50.629800],[65.306800,32.531700],[142.13500,-19.659100]])\n",
    "scp_true"
   ]
  },
  {
   "cell_type": "code",
   "execution_count": 12,
   "metadata": {},
   "outputs": [
    {
     "name": "stdout",
     "output_type": "stream",
     "text": [
      "relative uncertainty in values: \n"
     ]
    },
    {
     "data": {
      "text/plain": [
       "array([[-3.75732797e-06, -1.01847137e-05],\n",
       "       [-4.83740061e-06,  1.31204163e-05],\n",
       "       [-3.63406208e-06,  8.57661889e-06]])"
      ]
     },
     "execution_count": 12,
     "metadata": {},
     "output_type": "execute_result"
    }
   ],
   "source": [
    "print('relative uncertainty in values: ')\n",
    "(scp_new-scp_true)/scp_true"
   ]
  },
  {
   "cell_type": "code",
   "execution_count": 13,
   "metadata": {},
   "outputs": [
    {
     "name": "stdout",
     "output_type": "stream",
     "text": [
      "You definitely must mean spectra, bitch.\n"
     ]
    }
   ],
   "source": [
    "print('You definitely must mean spectra, bitch.')"
   ]
  }
 ],
 "metadata": {
  "kernelspec": {
   "display_name": "Python 2",
   "language": "python",
   "name": "python2"
  },
  "language_info": {
   "codemirror_mode": {
    "name": "ipython",
    "version": 2
   },
   "file_extension": ".py",
   "mimetype": "text/x-python",
   "name": "python",
   "nbconvert_exporter": "python",
   "pygments_lexer": "ipython2",
   "version": "2.7.14"
  },
  "toc": {
   "colors": {
    "hover_highlight": "#DAA520",
    "navigate_num": "#000000",
    "navigate_text": "#333333",
    "running_highlight": "#FF0000",
    "selected_highlight": "#FFD700",
    "sidebar_border": "#EEEEEE",
    "wrapper_background": "#FFFFFF"
   },
   "moveMenuLeft": true,
   "nav_menu": {
    "height": "4px",
    "width": "254px"
   },
   "navigate_menu": true,
   "number_sections": true,
   "sideBar": true,
   "threshold": 4,
   "toc_cell": false,
   "toc_section_display": "block",
   "toc_window_display": false,
   "widenNotebook": false
  },
  "varInspector": {
   "cols": {
    "lenName": 16,
    "lenType": 16,
    "lenVar": 40
   },
   "kernels_config": {
    "python": {
     "delete_cmd_postfix": "",
     "delete_cmd_prefix": "del ",
     "library": "var_list.py",
     "varRefreshCmd": "print(var_dic_list())"
    },
    "r": {
     "delete_cmd_postfix": ") ",
     "delete_cmd_prefix": "rm(",
     "library": "var_list.r",
     "varRefreshCmd": "cat(var_dic_list()) "
    }
   },
   "types_to_exclude": [
    "module",
    "function",
    "builtin_function_or_method",
    "instance",
    "_Feature"
   ],
   "window_display": false
  }
 },
 "nbformat": 4,
 "nbformat_minor": 2
}
