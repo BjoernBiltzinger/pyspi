{
 "cells": [
  {
   "cell_type": "code",
   "execution_count": 1,
   "metadata": {
    "ExecuteTime": {
     "end_time": "2018-02-19T15:32:58.903430Z",
     "start_time": "2018-02-19T15:32:54.816626Z"
    }
   },
   "outputs": [
    {
     "name": "stderr",
     "output_type": "stream",
     "text": [
      "/Users/jburgess/.environs/3ml/lib/python2.7/site-packages/h5py/__init__.py:36: FutureWarning: Conversion of the second argument of issubdtype from `float` to `np.floating` is deprecated. In future, it will be treated as `np.float64 == np.dtype(float).type`.\n",
      "  from ._conv import register_converters as _register_converters\n"
     ]
    },
    {
     "name": "stdout",
     "output_type": "stream",
     "text": [
      "Configuration read from /Users/jburgess/.threeML/threeML_config.yml\n"
     ]
    }
   ],
   "source": [
    "# Scientific libraries\n",
    "import numpy as np\n",
    "\n",
    "%matplotlib notebook\n",
    "import matplotlib.pyplot as plt\n",
    "\n",
    "import astropy.units as u\n",
    "from astropy.coordinates import ICRS, Galactic, SkyCoord\n",
    "\n",
    "from pyspi.spi_pointing import SPIPointing\n",
    "from pyspi.spi_frame import SPIFrame"
   ]
  },
  {
   "cell_type": "code",
   "execution_count": 2,
   "metadata": {
    "ExecuteTime": {
     "end_time": "2018-02-19T15:32:59.246227Z",
     "start_time": "2018-02-19T15:32:58.951943Z"
    }
   },
   "outputs": [],
   "source": [
    "spi_pointing = SPIPointing(sc_pointing_file='sc_orbit_param.fits.gz')"
   ]
  },
  {
   "cell_type": "code",
   "execution_count": 3,
   "metadata": {
    "ExecuteTime": {
     "end_time": "2018-02-19T15:33:06.701481Z",
     "start_time": "2018-02-19T15:33:06.689774Z"
    }
   },
   "outputs": [
    {
     "data": {
      "text/plain": [
       "array([[-0.57041035, -0.28013682,  0.772111  ],\n",
       "       [ 0.35096277,  0.76677282,  0.53747984],\n",
       "       [-0.74260155,  0.57756631, -0.33905765]])"
      ]
     },
     "execution_count": 3,
     "metadata": {},
     "output_type": "execute_result"
    }
   ],
   "source": [
    "spi_pointing.sc_matrix[0]"
   ]
  },
  {
   "cell_type": "code",
   "execution_count": 4,
   "metadata": {
    "ExecuteTime": {
     "end_time": "2018-02-19T15:33:07.743248Z",
     "start_time": "2018-02-19T15:33:07.737788Z"
    }
   },
   "outputs": [],
   "source": [
    "scp = spi_pointing.sc_points[0]"
   ]
  },
  {
   "cell_type": "code",
   "execution_count": 5,
   "metadata": {
    "ExecuteTime": {
     "end_time": "2018-02-19T15:33:08.418684Z",
     "start_time": "2018-02-19T15:33:08.401604Z"
    }
   },
   "outputs": [
    {
     "data": {
      "text/plain": [
       "<SPIFrame Coordinate (scx_ra=206.1563262939453, scx_dec=50.5438346862793, scy_ra=65.40575996001127, scy_dec=32.51224513331057, scz_ra=142.12562561035156, scz_dec=-19.81947135925293): (lon, lat) in deg\n",
       "    (0., 0.)>"
      ]
     },
     "execution_count": 5,
     "metadata": {},
     "output_type": "execute_result"
    }
   ],
   "source": [
    "spi_frame = SPIFrame(lat=0*u.deg,lon=0*u.deg,**scp)\n",
    "spi_frame"
   ]
  },
  {
   "cell_type": "code",
   "execution_count": 6,
   "metadata": {
    "ExecuteTime": {
     "end_time": "2018-02-19T15:33:09.220315Z",
     "start_time": "2018-02-19T15:33:09.194505Z"
    }
   },
   "outputs": [
    {
     "data": {
      "text/plain": [
       "<ICRS Coordinate: (ra, dec) in deg\n",
       "    (206.15632629, 50.54383469)>"
      ]
     },
     "execution_count": 6,
     "metadata": {},
     "output_type": "execute_result"
    }
   ],
   "source": [
    "spi_frame.transform_to(ICRS)"
   ]
  },
  {
   "cell_type": "code",
   "execution_count": 7,
   "metadata": {
    "ExecuteTime": {
     "end_time": "2018-02-19T15:33:13.195675Z",
     "start_time": "2018-02-19T15:33:13.153766Z"
    }
   },
   "outputs": [
    {
     "data": {
      "text/plain": [
       "<Galactic Coordinate: (l, b) in deg\n",
       "    (103.09549308, 64.48656888)>"
      ]
     },
     "execution_count": 7,
     "metadata": {},
     "output_type": "execute_result"
    }
   ],
   "source": [
    "spi_frame.transform_to(Galactic)"
   ]
  },
  {
   "cell_type": "code",
   "execution_count": 8,
   "metadata": {
    "ExecuteTime": {
     "end_time": "2018-02-19T15:33:17.212791Z",
     "start_time": "2018-02-19T15:33:17.202126Z"
    }
   },
   "outputs": [
    {
     "data": {
      "text/plain": [
       "<CartesianRepresentation (x, y, z) [dimensionless]\n",
       "    (1., 0., 0.)>"
      ]
     },
     "execution_count": 8,
     "metadata": {},
     "output_type": "execute_result"
    }
   ],
   "source": [
    "spi_frame.cartesian"
   ]
  },
  {
   "cell_type": "code",
   "execution_count": 11,
   "metadata": {
    "ExecuteTime": {
     "end_time": "2018-02-19T15:45:55.087242Z",
     "start_time": "2018-02-19T15:45:55.052122Z"
    }
   },
   "outputs": [
    {
     "data": {
      "text/plain": [
       "9.911455021418327"
      ]
     },
     "execution_count": 11,
     "metadata": {},
     "output_type": "execute_result"
    }
   ],
   "source": [
    "\n",
    "source = SkyCoord(ra=197.075, dec=58.98,unit='deg',frame='icrs')\n",
    "center = SkyCoord(ra=206.1563262939453, dec=50.5438346862793, unit='deg', frame='icrs')\n",
    "\n",
    "source.separation(center).value\n",
    "\n"
   ]
  },
  {
   "cell_type": "code",
   "execution_count": 14,
   "metadata": {
    "ExecuteTime": {
     "end_time": "2018-02-19T15:46:43.662375Z",
     "start_time": "2018-02-19T15:46:43.588515Z"
    }
   },
   "outputs": [],
   "source": [
    "source_spi = source.transform_to(spi_frame)\n",
    "\n",
    "center_spi = center.transform_to(spi_frame)"
   ]
  },
  {
   "cell_type": "code",
   "execution_count": 18,
   "metadata": {
    "ExecuteTime": {
     "end_time": "2018-02-19T15:47:39.439273Z",
     "start_time": "2018-02-19T15:47:39.404941Z"
    }
   },
   "outputs": [
    {
     "data": {
      "text/plain": [
       "9.91145547804111"
      ]
     },
     "execution_count": 18,
     "metadata": {},
     "output_type": "execute_result"
    }
   ],
   "source": [
    "spi_frame.separation(source_spi).value"
   ]
  },
  {
   "cell_type": "code",
   "execution_count": 21,
   "metadata": {
    "ExecuteTime": {
     "end_time": "2018-02-19T15:48:07.604641Z",
     "start_time": "2018-02-19T15:48:07.595778Z"
    }
   },
   "outputs": [
    {
     "data": {
      "text/plain": [
       "array([ 0.98507493,  0.17169734, -0.01214088])"
      ]
     },
     "execution_count": 21,
     "metadata": {},
     "output_type": "execute_result"
    }
   ],
   "source": [
    "source_spi.cartesian.xyz.value"
   ]
  },
  {
   "cell_type": "code",
   "execution_count": 23,
   "metadata": {
    "ExecuteTime": {
     "end_time": "2018-02-19T15:48:57.515080Z",
     "start_time": "2018-02-19T15:48:55.798138Z"
    }
   },
   "outputs": [],
   "source": [
    "from pyspi import SPIResponse\n",
    "spi = SPIResponse()"
   ]
  },
  {
   "cell_type": "code",
   "execution_count": 24,
   "metadata": {
    "ExecuteTime": {
     "end_time": "2018-02-19T15:49:26.488029Z",
     "start_time": "2018-02-19T15:49:26.477642Z"
    }
   },
   "outputs": [
    {
     "data": {
      "text/plain": [
       "<SkyCoord (SPIFrame: scx_ra=206.1563262939453, scx_dec=50.5438346862793, scy_ra=65.40575996001127, scy_dec=32.51224513331057, scz_ra=142.12562561035156, scz_dec=-19.81947135925293): (lon, lat) in deg\n",
       "    (9.88725697, -0.69563811)>"
      ]
     },
     "execution_count": 24,
     "metadata": {},
     "output_type": "execute_result"
    }
   ],
   "source": [
    "source_spi"
   ]
  },
  {
   "cell_type": "code",
   "execution_count": 25,
   "metadata": {
    "ExecuteTime": {
     "end_time": "2018-02-19T15:49:45.227862Z",
     "start_time": "2018-02-19T15:49:45.222152Z"
    }
   },
   "outputs": [],
   "source": [
    "xy = spi.get_xy_pos(np.deg2rad(9.88725697), np.deg2rad(-0.69563811))"
   ]
  },
  {
   "cell_type": "code",
   "execution_count": 26,
   "metadata": {
    "ExecuteTime": {
     "end_time": "2018-02-19T15:49:48.391075Z",
     "start_time": "2018-02-19T15:49:48.382027Z"
    }
   },
   "outputs": [
    {
     "data": {
      "text/plain": [
       "(45.629387654172405, 46.761103960262076)"
      ]
     },
     "execution_count": 26,
     "metadata": {},
     "output_type": "execute_result"
    }
   ],
   "source": [
    "xy"
   ]
  },
  {
   "cell_type": "code",
   "execution_count": null,
   "metadata": {},
   "outputs": [],
   "source": []
  }
 ],
 "metadata": {
  "kernelspec": {
   "display_name": "Python 2",
   "language": "python",
   "name": "python2"
  },
  "language_info": {
   "codemirror_mode": {
    "name": "ipython",
    "version": 2
   },
   "file_extension": ".py",
   "mimetype": "text/x-python",
   "name": "python",
   "nbconvert_exporter": "python",
   "pygments_lexer": "ipython2",
   "version": "2.7.15"
  },
  "toc": {
   "base_numbering": 1.0,
   "nav_menu": {
    "height": "4px",
    "width": "254px"
   },
   "number_sections": true,
   "sideBar": true,
   "skip_h1_title": false,
   "title_cell": "Table of Contents",
   "title_sidebar": "Contents",
   "toc_cell": false,
   "toc_position": {},
   "toc_section_display": "block",
   "toc_window_display": false
  },
  "varInspector": {
   "cols": {
    "lenName": 16.0,
    "lenType": 16.0,
    "lenVar": 40.0
   },
   "kernels_config": {
    "python": {
     "delete_cmd_postfix": "",
     "delete_cmd_prefix": "del ",
     "library": "var_list.py",
     "varRefreshCmd": "print(var_dic_list())"
    },
    "r": {
     "delete_cmd_postfix": ") ",
     "delete_cmd_prefix": "rm(",
     "library": "var_list.r",
     "varRefreshCmd": "cat(var_dic_list()) "
    }
   },
   "types_to_exclude": [
    "module",
    "function",
    "builtin_function_or_method",
    "instance",
    "_Feature"
   ],
   "window_display": false
  }
 },
 "nbformat": 4,
 "nbformat_minor": 2
}
