{
 "cells": [
  {
   "cell_type": "code",
   "execution_count": 15,
   "metadata": {
    "ExecuteTime": {
     "end_time": "2018-02-16T09:37:27.330209Z",
     "start_time": "2018-02-16T09:37:27.319436Z"
    }
   },
   "outputs": [],
   "source": [
    "# Scientific libraries\n",
    "import numpy as np\n",
    "\n",
    "%matplotlib notebook\n",
    "import matplotlib.pyplot as plt\n",
    "\n",
    "import astropy.units as u\n",
    "from astropy.coordinates import ICRS, Galactic, SkyCoord\n",
    "\n",
    "from pyspi.spi_pointing import SPIPointing\n",
    "from pyspi.spi_frame import SPIFrame"
   ]
  },
  {
   "cell_type": "code",
   "execution_count": 4,
   "metadata": {
    "ExecuteTime": {
     "end_time": "2018-02-16T09:34:57.122894Z",
     "start_time": "2018-02-16T09:34:56.909456Z"
    }
   },
   "outputs": [],
   "source": [
    "spi_pointing = SPIPointing(sc_pointing_file='sc_orbit_param.fits.gz')"
   ]
  },
  {
   "cell_type": "code",
   "execution_count": 5,
   "metadata": {
    "ExecuteTime": {
     "end_time": "2018-02-16T09:34:57.811608Z",
     "start_time": "2018-02-16T09:34:57.796698Z"
    }
   },
   "outputs": [
    {
     "data": {
      "text/plain": [
       "array([[-0.57041035, -0.28013682,  0.772111  ],\n",
       "       [ 0.35096277,  0.76677282,  0.53747984],\n",
       "       [-0.74260155,  0.57756631, -0.33905765]])"
      ]
     },
     "execution_count": 5,
     "metadata": {},
     "output_type": "execute_result"
    }
   ],
   "source": [
    "spi_pointing.sc_matrix[0]"
   ]
  },
  {
   "cell_type": "code",
   "execution_count": 7,
   "metadata": {
    "ExecuteTime": {
     "end_time": "2018-02-16T09:35:11.627245Z",
     "start_time": "2018-02-16T09:35:11.622198Z"
    }
   },
   "outputs": [],
   "source": [
    "scp = spi_pointing.sc_points[0]"
   ]
  },
  {
   "cell_type": "code",
   "execution_count": 14,
   "metadata": {
    "ExecuteTime": {
     "end_time": "2018-02-16T09:37:09.533077Z",
     "start_time": "2018-02-16T09:37:09.517666Z"
    }
   },
   "outputs": [
    {
     "data": {
      "text/plain": [
       "<SPIFrame Coordinate (scx_ra=206.1563262939453, scx_dec=50.5438346862793, scy_ra=65.40575996001127, scy_dec=32.51224513331057, scz_ra=142.12562561035156, scz_dec=-19.81947135925293): (lon, lat) in deg\n",
       "    (0., 0.)>"
      ]
     },
     "execution_count": 14,
     "metadata": {},
     "output_type": "execute_result"
    }
   ],
   "source": [
    "spi_frame = SPIFrame(lat=0*u.deg,lon=0*u.deg,**scp)\n",
    "spi_frame"
   ]
  },
  {
   "cell_type": "code",
   "execution_count": 13,
   "metadata": {
    "ExecuteTime": {
     "end_time": "2018-02-16T09:37:01.469395Z",
     "start_time": "2018-02-16T09:37:01.447041Z"
    }
   },
   "outputs": [
    {
     "data": {
      "text/plain": [
       "<ICRS Coordinate: (ra, dec) in deg\n",
       "    (206.15632629, 50.54383469)>"
      ]
     },
     "execution_count": 13,
     "metadata": {},
     "output_type": "execute_result"
    }
   ],
   "source": [
    "spi_frame.transform_to(ICRS)"
   ]
  },
  {
   "cell_type": "code",
   "execution_count": 18,
   "metadata": {
    "ExecuteTime": {
     "end_time": "2018-02-16T09:39:20.485044Z",
     "start_time": "2018-02-16T09:39:20.439415Z"
    }
   },
   "outputs": [
    {
     "data": {
      "text/plain": [
       "<Galactic Coordinate: (l, b) in deg\n",
       "    (103.09549308, 64.48656888)>"
      ]
     },
     "execution_count": 18,
     "metadata": {},
     "output_type": "execute_result"
    }
   ],
   "source": [
    "spi_frame.transform_to(Galactic)"
   ]
  },
  {
   "cell_type": "code",
   "execution_count": 19,
   "metadata": {
    "ExecuteTime": {
     "end_time": "2018-02-16T09:39:41.202482Z",
     "start_time": "2018-02-16T09:39:41.192593Z"
    }
   },
   "outputs": [
    {
     "data": {
      "text/plain": [
       "<CartesianRepresentation (x, y, z) [dimensionless]\n",
       "    (1., 0., 0.)>"
      ]
     },
     "execution_count": 19,
     "metadata": {},
     "output_type": "execute_result"
    }
   ],
   "source": [
    "spi_frame.cartesian"
   ]
  },
  {
   "cell_type": "code",
   "execution_count": 16,
   "metadata": {
    "ExecuteTime": {
     "end_time": "2018-02-16T09:38:24.190512Z",
     "start_time": "2018-02-16T09:38:24.175853Z"
    }
   },
   "outputs": [],
   "source": [
    "sky_coord = SkyCoord(206.1563262939453,50.5438346862793,unit='deg',frame='icrs')"
   ]
  },
  {
   "cell_type": "code",
   "execution_count": 17,
   "metadata": {
    "ExecuteTime": {
     "end_time": "2018-02-16T09:38:48.632772Z",
     "start_time": "2018-02-16T09:38:48.583102Z"
    }
   },
   "outputs": [
    {
     "data": {
      "text/plain": [
       "<SkyCoord (SPIFrame: scx_ra=206.1563262939453, scx_dec=50.5438346862793, scy_ra=65.40575996001127, scy_dec=32.51224513331057, scz_ra=142.12562561035156, scz_dec=-19.81947135925293): (lon, lat) in deg\n",
       "    (360., -6.67042973e-06)>"
      ]
     },
     "execution_count": 17,
     "metadata": {},
     "output_type": "execute_result"
    }
   ],
   "source": [
    "sky_coord.transform_to(spi_frame)"
   ]
  },
  {
   "cell_type": "code",
   "execution_count": null,
   "metadata": {},
   "outputs": [],
   "source": []
  }
 ],
 "metadata": {
  "kernelspec": {
   "display_name": "Python 2",
   "language": "python",
   "name": "python2"
  },
  "language_info": {
   "codemirror_mode": {
    "name": "ipython",
    "version": 2
   },
   "file_extension": ".py",
   "mimetype": "text/x-python",
   "name": "python",
   "nbconvert_exporter": "python",
   "pygments_lexer": "ipython2",
   "version": "2.7.14"
  },
  "toc": {
   "colors": {
    "hover_highlight": "#DAA520",
    "navigate_num": "#000000",
    "navigate_text": "#333333",
    "running_highlight": "#FF0000",
    "selected_highlight": "#FFD700",
    "sidebar_border": "#EEEEEE",
    "wrapper_background": "#FFFFFF"
   },
   "moveMenuLeft": true,
   "nav_menu": {
    "height": "4px",
    "width": "254px"
   },
   "navigate_menu": true,
   "number_sections": true,
   "sideBar": true,
   "threshold": 4,
   "toc_cell": false,
   "toc_section_display": "block",
   "toc_window_display": false,
   "widenNotebook": false
  },
  "varInspector": {
   "cols": {
    "lenName": 16,
    "lenType": 16,
    "lenVar": 40
   },
   "kernels_config": {
    "python": {
     "delete_cmd_postfix": "",
     "delete_cmd_prefix": "del ",
     "library": "var_list.py",
     "varRefreshCmd": "print(var_dic_list())"
    },
    "r": {
     "delete_cmd_postfix": ") ",
     "delete_cmd_prefix": "rm(",
     "library": "var_list.r",
     "varRefreshCmd": "cat(var_dic_list()) "
    }
   },
   "types_to_exclude": [
    "module",
    "function",
    "builtin_function_or_method",
    "instance",
    "_Feature"
   ],
   "window_display": false
  }
 },
 "nbformat": 4,
 "nbformat_minor": 2
}
