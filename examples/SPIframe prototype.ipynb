{
 "cells": [
  {
   "cell_type": "code",
   "execution_count": 1,
   "metadata": {
    "ExecuteTime": {
     "end_time": "2018-02-27T14:58:30.387459Z",
     "start_time": "2018-02-27T14:58:28.626842Z"
    }
   },
   "outputs": [],
   "source": [
    "import astropy.coordinates as coord\n",
    "import astropy.units as u\n",
    "import numpy as np\n",
    "from astropy.coordinates import BaseCoordinateFrame, Attribute, RepresentationMapping\n",
    "from astropy.coordinates import frame_transform_graph"
   ]
  },
  {
   "cell_type": "code",
   "execution_count": 2,
   "metadata": {
    "ExecuteTime": {
     "end_time": "2018-02-27T14:58:30.712682Z",
     "start_time": "2018-02-27T14:58:30.424071Z"
    }
   },
   "outputs": [],
   "source": [
    "def polar2cart(ra,dec):\n",
    "    \n",
    "    x = np.cos(np.deg2rad(ra)) * np.cos(np.deg2rad(dec))\n",
    "    y = np.sin(np.deg2rad(ra)) * np.cos(np.deg2rad(dec))\n",
    "    z = np.sin(np.deg2rad(dec))\n",
    "    \n",
    "    return np.array([x,y,z])\n",
    "\n",
    "\n",
    "\n",
    "def cart2polar(vector):\n",
    "\n",
    "    ra = np.arctan2(vector[1],vector[0]) \n",
    "    dec = np.arcsin(vector[2])\n",
    "    \n",
    "    return np.rad2deg(ra), np.rad2deg(dec)\n",
    "    \n",
    "    \n",
    "def construct_scy(scx_ra, scx_dec, scz_ra, scz_dec):\n",
    "    \n",
    "    x = polar2cart(scx_ra, scx_dec)\n",
    "    z = polar2cart(scz_ra, scz_dec)\n",
    "    \n",
    "    return cart2polar(np.cross(x,-z))\n",
    "    \n",
    "def construct_sc_matrix(scx_ra, scx_dec, scy_ra, scy_dec, scz_ra, scz_dec):\n",
    "    \n",
    "    sc_matrix = np.zeros((3,3))\n",
    "    \n",
    "    sc_matrix[0,:] = polar2cart(scx_ra, scx_dec)\n",
    "    sc_matrix[1,:] = polar2cart(scy_ra, scy_dec)\n",
    "    sc_matrix[2,:] = polar2cart(scz_ra, scz_dec)\n",
    "    \n",
    "    return sc_matrix\n",
    "    \n",
    "\n",
    "\n",
    "\n",
    "class SPIFrame(BaseCoordinateFrame):\n",
    "    \"\"\"\n",
    "    \n",
    "    INTEGRAL SPI Frame\n",
    "    Parameters\n",
    "    ----------\n",
    "    representation : `BaseRepresentation` or None\n",
    "        A representation object or None to have no data (or use the other keywords)\n",
    "  \n",
    "    \"\"\"\n",
    "    default_representation = coord.SphericalRepresentation\n",
    "\n",
    "    frame_specific_representation_info = {\n",
    "        'spherical': [\n",
    "            RepresentationMapping(\n",
    "                reprname='lon', framename='lon', defaultunit=u.degree),\n",
    "            RepresentationMapping(\n",
    "                reprname='lat', framename='lat', defaultunit=u.degree),\n",
    "            RepresentationMapping(\n",
    "                reprname='distance', framename='DIST', defaultunit=None)\n",
    "        ],\n",
    "        'unitspherical': [\n",
    "            RepresentationMapping(\n",
    "                reprname='lon', framename='lon', defaultunit=u.degree),\n",
    "            RepresentationMapping(\n",
    "                reprname='lat', framename='lat', defaultunit=u.degree)\n",
    "        ],\n",
    "        'cartesian': [\n",
    "            RepresentationMapping(\n",
    "                reprname='x', framename='SCX'), RepresentationMapping(\n",
    "                reprname='y', framename='SCY'), RepresentationMapping(\n",
    "                reprname='z', framename='SCZ')\n",
    "        ]\n",
    "    }\n",
    "\n",
    "    # Specify frame attributes required to fully specify the frame\n",
    "    scx_ra = Attribute(default=None)\n",
    "    scx_dec = Attribute(default=None)\n",
    "    \n",
    "    scy_ra = Attribute(default=None)\n",
    "    scy_dec = Attribute(default=None)\n",
    "    \n",
    "    scz_ra = Attribute(default=None)\n",
    "    scz_dec = Attribute(default=None)\n",
    "   \n",
    "\n",
    "    # equinox = TimeFrameAttribute(default='J2000')\n",
    "\n",
    "\n",
    "\n",
    "\n",
    "@frame_transform_graph.transform(coord.FunctionTransform, SPIFrame, coord.ICRS)\n",
    "def spi_to_j2000(spi_coord, j2000_frame):\n",
    "    \"\"\" \n",
    "    \n",
    "    \"\"\"\n",
    "\n",
    "    sc_matrix = construct_sc_matrix(spi_coord.scx_ra,\n",
    "                                    spi_coord.scx_dec,\n",
    "                                    spi_coord.scy_ra,\n",
    "                                    spi_coord.scy_dec,\n",
    "                                    spi_coord.scz_ra,\n",
    "                                    spi_coord.scz_dec)\n",
    "\n",
    "    # X,Y,Z = gbm_coord.cartesian\n",
    "\n",
    "    pos = spi_coord.cartesian.xyz.value\n",
    "\n",
    "    X0 = np.dot(sc_matrix[:, 0], pos)\n",
    "    X1 = np.dot(sc_matrix[:, 1], pos)\n",
    "    X2 = np.clip(np.dot(sc_matrix[:, 2], pos), -1., 1.)\n",
    "\n",
    "    dec = np.arcsin(X2)\n",
    "\n",
    "    idx = np.logical_and(np.abs(X0) < 1E-6, np.abs(X1) < 1E-6)\n",
    "\n",
    "    ra = np.zeros_like(dec)\n",
    "\n",
    "    ra[~idx] = np.arctan2(X1, X0) % (2 * np.pi)\n",
    "\n",
    "    return coord.ICRS(ra=ra * u.radian, dec=dec * u.radian)\n",
    "\n",
    "\n",
    "@frame_transform_graph.transform(coord.FunctionTransform, coord.ICRS, SPIFrame)\n",
    "def j2000_to_spi(j2000_frame, spi_coord):\n",
    "    \"\"\" \n",
    "    \n",
    "    \"\"\"\n",
    "\n",
    "    sc_matrix = construct_sc_matrix(spi_coord.scx_ra,\n",
    "                                    spi_coord.scx_dec,\n",
    "                                    spi_coord.scy_ra,\n",
    "                                    spi_coord.scy_dec,\n",
    "                                    spi_coord.scz_ra,\n",
    "                                    spi_coord.scz_dec)\n",
    "\n",
    "\n",
    "    pos = j2000_frame.cartesian.xyz.value\n",
    "\n",
    "    X0 = np.dot(sc_matrix[0, :], pos)\n",
    "    X1 = np.dot(sc_matrix[1, :], pos)\n",
    "    X2 = np.dot(sc_matrix[2, :], pos)\n",
    "\n",
    "    lat = np.pi / 2. - np.arccos(X2)  # convert to proper frame\n",
    "\n",
    "    idx = np.logical_and(np.abs(X0) < 1E-6, np.abs(X1) < 1E-6)\n",
    "\n",
    "    lon = np.zeros_like(lat)\n",
    "\n",
    "    lon[~idx] = np.arctan2(X1, X0) % (2 * np.pi)\n",
    "\n",
    "    return SPIFrame(\n",
    "        lon=lon * u.radian,\n",
    "        lat=lat * u.radian,\n",
    "        scx_ra=spi_coord.scx_ra,\n",
    "        scx_dec=spi_coord.scx_dec,\n",
    "        scy_ra=spi_coord.scy_ra,\n",
    "        scy_dec=spi_coord.scy_dec,\n",
    "        scz_ra=spi_coord.scz_ra,\n",
    "        scz_dec=spi_coord.scz_dec\n",
    "    \n",
    "    )"
   ]
  },
  {
   "cell_type": "code",
   "execution_count": null,
   "metadata": {},
   "outputs": [],
   "source": [
    "\n",
    "class SPIFrame(coord.Sp):"
   ]
  },
  {
   "cell_type": "code",
   "execution_count": null,
   "metadata": {},
   "outputs": [],
   "source": []
  },
  {
   "cell_type": "code",
   "execution_count": 175,
   "metadata": {
    "ExecuteTime": {
     "end_time": "2018-02-15T22:11:21.453050Z",
     "start_time": "2018-02-15T22:11:21.427611Z"
    }
   },
   "outputs": [
    {
     "ename": "ImportError",
     "evalue": "No module named coordsystems",
     "output_type": "error",
     "traceback": [
      "\u001b[0;31m---------------------------------------------------------------------------\u001b[0m",
      "\u001b[0;31mImportError\u001b[0m                               Traceback (most recent call last)",
      "\u001b[0;32m<ipython-input-175-6a813127e798>\u001b[0m in \u001b[0;36m<module>\u001b[0;34m()\u001b[0m\n\u001b[0;32m----> 1\u001b[0;31m \u001b[0;32mfrom\u001b[0m  \u001b[0mastropy\u001b[0m\u001b[0;34m.\u001b[0m\u001b[0mcoordinates\u001b[0m\u001b[0;34m.\u001b[0m\u001b[0mcoordsystems\u001b[0m \u001b[0;32mimport\u001b[0m \u001b[0mSphericalCoordinateBase\u001b[0m\u001b[0;34m\u001b[0m\u001b[0m\n\u001b[0m",
      "\u001b[0;31mImportError\u001b[0m: No module named coordsystems"
     ]
    }
   ],
   "source": [
    "from  astropy.coordinates.coordsystems import SphericalCoordinateBase"
   ]
  },
  {
   "cell_type": "code",
   "execution_count": 176,
   "metadata": {
    "ExecuteTime": {
     "end_time": "2018-02-15T22:13:34.676689Z",
     "start_time": "2018-02-15T22:13:34.647664Z"
    }
   },
   "outputs": [
    {
     "ename": "ImportError",
     "evalue": "cannot import name SphericalCoordinatesBase",
     "output_type": "error",
     "traceback": [
      "\u001b[0;31m---------------------------------------------------------------------------\u001b[0m",
      "\u001b[0;31mImportError\u001b[0m                               Traceback (most recent call last)",
      "\u001b[0;32m<ipython-input-176-9e86f07c45ad>\u001b[0m in \u001b[0;36m<module>\u001b[0;34m()\u001b[0m\n\u001b[0;32m----> 1\u001b[0;31m \u001b[0;32mfrom\u001b[0m \u001b[0mastropy\u001b[0m\u001b[0;34m.\u001b[0m\u001b[0mcoordinates\u001b[0m \u001b[0;32mimport\u001b[0m \u001b[0mSphericalCoordinatesBase\u001b[0m\u001b[0;34m\u001b[0m\u001b[0m\n\u001b[0m",
      "\u001b[0;31mImportError\u001b[0m: cannot import name SphericalCoordinatesBase"
     ]
    }
   ],
   "source": [
    "from astropy.coordinates import SphericalCoordinatesBase"
   ]
  },
  {
   "cell_type": "code",
   "execution_count": 174,
   "metadata": {
    "ExecuteTime": {
     "end_time": "2018-02-15T22:10:37.917737Z",
     "start_time": "2018-02-15T22:10:37.905366Z"
    }
   },
   "outputs": [],
   "source": [
    "SphericalRepresentation?"
   ]
  },
  {
   "cell_type": "code",
   "execution_count": null,
   "metadata": {},
   "outputs": [],
   "source": []
  },
  {
   "cell_type": "code",
   "execution_count": null,
   "metadata": {},
   "outputs": [],
   "source": []
  },
  {
   "cell_type": "code",
   "execution_count": null,
   "metadata": {},
   "outputs": [],
   "source": []
  },
  {
   "cell_type": "code",
   "execution_count": null,
   "metadata": {},
   "outputs": [],
   "source": []
  },
  {
   "cell_type": "code",
   "execution_count": 203,
   "metadata": {
    "ExecuteTime": {
     "end_time": "2018-02-16T09:00:39.372972Z",
     "start_time": "2018-02-16T09:00:39.327145Z"
    }
   },
   "outputs": [
    {
     "ename": "ValueError",
     "evalue": "attribute scz_dec should be scalar or have shape (), but is has shape (3, 3) and could not be broadcast.",
     "output_type": "error",
     "traceback": [
      "\u001b[0;31m---------------------------------------------------------------------------\u001b[0m",
      "\u001b[0;31mValueError\u001b[0m                                Traceback (most recent call last)",
      "\u001b[0;32m<ipython-input-203-0e06a2d9be33>\u001b[0m in \u001b[0;36m<module>\u001b[0;34m()\u001b[0m\n\u001b[1;32m      7\u001b[0m  \u001b[0mscy_dec\u001b[0m\u001b[0;34m=\u001b[0m\u001b[0;36m32.51224513331057\u001b[0m\u001b[0;34m,\u001b[0m\u001b[0;34m\u001b[0m\u001b[0m\n\u001b[1;32m      8\u001b[0m  \u001b[0mscz_ra\u001b[0m\u001b[0;34m=\u001b[0m\u001b[0;36m142.12562561035156\u001b[0m\u001b[0;34m,\u001b[0m\u001b[0;34m\u001b[0m\u001b[0m\n\u001b[0;32m----> 9\u001b[0;31m  scz_dec=np.zeros((3,3)))\n\u001b[0m",
      "\u001b[0;32m/Users/jburgess/.environs/3ml/lib/python2.7/site-packages/astropy/coordinates/baseframe.pyc\u001b[0m in \u001b[0;36m__init__\u001b[0;34m(self, *args, **kwargs)\u001b[0m\n\u001b[1;32m    395\u001b[0m                 \u001b[0;31m# Validate attribute by getting it.  If the instance has data,\u001b[0m\u001b[0;34m\u001b[0m\u001b[0;34m\u001b[0m\u001b[0m\n\u001b[1;32m    396\u001b[0m                 \u001b[0;31m# this also checks its shape is OK.  If not, we do it below.\u001b[0m\u001b[0;34m\u001b[0m\u001b[0;34m\u001b[0m\u001b[0m\n\u001b[0;32m--> 397\u001b[0;31m                 \u001b[0mvalues\u001b[0m\u001b[0;34m[\u001b[0m\u001b[0mfnm\u001b[0m\u001b[0;34m]\u001b[0m \u001b[0;34m=\u001b[0m \u001b[0mgetattr\u001b[0m\u001b[0;34m(\u001b[0m\u001b[0mself\u001b[0m\u001b[0;34m,\u001b[0m \u001b[0mfnm\u001b[0m\u001b[0;34m)\u001b[0m\u001b[0;34m\u001b[0m\u001b[0m\n\u001b[0m\u001b[1;32m    398\u001b[0m             \u001b[0;32melse\u001b[0m\u001b[0;34m:\u001b[0m\u001b[0;34m\u001b[0m\u001b[0m\n\u001b[1;32m    399\u001b[0m                 \u001b[0msetattr\u001b[0m\u001b[0;34m(\u001b[0m\u001b[0mself\u001b[0m\u001b[0;34m,\u001b[0m \u001b[0;34m'_'\u001b[0m \u001b[0;34m+\u001b[0m \u001b[0mfnm\u001b[0m\u001b[0;34m,\u001b[0m \u001b[0mfdefault\u001b[0m\u001b[0;34m)\u001b[0m\u001b[0;34m\u001b[0m\u001b[0m\n",
      "\u001b[0;32m/Users/jburgess/.environs/3ml/lib/python2.7/site-packages/astropy/coordinates/attributes.pyc\u001b[0m in \u001b[0;36m__get__\u001b[0;34m(self, instance, frame_cls)\u001b[0m\n\u001b[1;32m    123\u001b[0m                         \u001b[0;34m\"attribute {0} should be scalar or have shape {1}, \"\u001b[0m\u001b[0;34m\u001b[0m\u001b[0m\n\u001b[1;32m    124\u001b[0m                         \u001b[0;34m\"but is has shape {2} and could not be broadcast.\"\u001b[0m\u001b[0;34m\u001b[0m\u001b[0m\n\u001b[0;32m--> 125\u001b[0;31m                         .format(self.name, instance_shape, out.shape))\n\u001b[0m\u001b[1;32m    126\u001b[0m \u001b[0;34m\u001b[0m\u001b[0m\n\u001b[1;32m    127\u001b[0m                 \u001b[0mconverted\u001b[0m \u001b[0;34m=\u001b[0m \u001b[0mTrue\u001b[0m\u001b[0;34m\u001b[0m\u001b[0m\n",
      "\u001b[0;31mValueError\u001b[0m: attribute scz_dec should be scalar or have shape (), but is has shape (3, 3) and could not be broadcast."
     ]
    }
   ],
   "source": [
    "spi_frame = SPIFrame(lat=90.*u.deg,lon=0.*u.deg\n",
    "                     ,\n",
    "                    # unit='deg',\n",
    "                     scx_ra=206.1563262939453,\n",
    " scx_dec=50.5438346862793,\n",
    " scy_ra=65.40575996001127,\n",
    " scy_dec=32.51224513331057,\n",
    " scz_ra=142.12562561035156,\n",
    " scz_dec=np.zeros((3,3)))"
   ]
  },
  {
   "cell_type": "code",
   "execution_count": 152,
   "metadata": {
    "ExecuteTime": {
     "end_time": "2018-02-15T17:39:50.752745Z",
     "start_time": "2018-02-15T17:39:50.747169Z"
    }
   },
   "outputs": [],
   "source": [
    "from astropy.coordinates import ICRS"
   ]
  },
  {
   "cell_type": "code",
   "execution_count": 153,
   "metadata": {
    "ExecuteTime": {
     "end_time": "2018-02-15T17:39:51.357950Z",
     "start_time": "2018-02-15T17:39:51.337314Z"
    }
   },
   "outputs": [
    {
     "data": {
      "text/plain": [
       "<ICRS Coordinate: (ra, dec) in deg\n",
       "    (142.12562561, -19.81947136)>"
      ]
     },
     "execution_count": 153,
     "metadata": {},
     "output_type": "execute_result"
    }
   ],
   "source": [
    "spi_frame.transform_to(ICRS)"
   ]
  },
  {
   "cell_type": "code",
   "execution_count": 199,
   "metadata": {
    "ExecuteTime": {
     "end_time": "2018-02-16T08:49:38.651140Z",
     "start_time": "2018-02-16T08:49:38.593240Z"
    }
   },
   "outputs": [],
   "source": [
    "import astropy.io.fits as fits\n",
    "\n",
    "f = fits.open('sc_orbit_param.fits.gz')\n",
    "\n",
    "def extract_sc_pointing(pointing_extension, time_index):\n",
    "    \n",
    "    scx_ra = pointing_extension.data['RA_SCX'][time_index]\n",
    "    scx_dec = pointing_extension.data['DEC_SCX'][time_index]\n",
    "    \n",
    "    scz_ra = pointing_extension.data['RA_SCZ'][time_index]\n",
    "    scz_dec = pointing_extension.data['DEC_SCZ'][time_index]\n",
    "    \n",
    "    scy_ra, scy_dec = construct_scy(scx_ra, scx_dec, scz_ra, scz_dec)\n",
    "    \n",
    "    return  scx_ra, scx_dec, scy_ra, scy_dec, scz_ra, scz_dec\n",
    "    \n",
    "\n",
    "def polar2cart(ra,dec):\n",
    "    \n",
    "    x = np.cos(np.deg2rad(ra)) * np.cos(np.deg2rad(dec))\n",
    "    y = np.sin(np.deg2rad(ra)) * np.cos(np.deg2rad(dec))\n",
    "    z = np.sin(np.deg2rad(dec))\n",
    "    \n",
    "    return np.array([x,y,z])\n",
    "\n",
    "\n",
    "\n",
    "def cart2polar(vector):\n",
    "\n",
    "    r=np.sqrt((np.array(vector)**2).sum())\n",
    "    \n",
    "    ra = np.arctan2(vector[1],vector[0])\n",
    "    \n",
    "    dec = np.arcsin(vector[2]/r)\n",
    "    \n",
    "    return np.rad2deg(ra), np.rad2deg(dec)\n",
    "    \n",
    "    \n",
    "def construct_scy(scx_ra, scx_dec, scz_ra, scz_dec):\n",
    "    \n",
    "    x = polar2cart(scx_ra, scx_dec)\n",
    "    z = polar2cart(scz_ra, scz_dec)\n",
    "    \n",
    "    return cart2polar(np.cross(x,-z))\n",
    "    \n",
    "def construct_sc_matrix(scx_ra, scx_dec, scy_ra, scy_dec, scz_ra, scz_dec):\n",
    "    \n",
    "    sc_matrix = np.zeros((3,3))\n",
    "    \n",
    "    sc_matrix[0,:] = polar2cart(scx_ra, scx_dec)\n",
    "    sc_matrix[1,:] = polar2cart(scy_ra, scy_dec)\n",
    "    sc_matrix[2,:] = polar2cart(scz_ra, scz_dec)\n",
    "    \n",
    "    return sc_matrix\n",
    "    \n",
    "    \n"
   ]
  },
  {
   "cell_type": "code",
   "execution_count": 201,
   "metadata": {
    "ExecuteTime": {
     "end_time": "2018-02-16T08:49:50.520509Z",
     "start_time": "2018-02-16T08:49:50.505053Z"
    }
   },
   "outputs": [
    {
     "name": "stdout",
     "output_type": "stream",
     "text": [
      "Filename: sc_orbit_param.fits.gz\n",
      "No.    Name      Ver    Type      Cards   Dimensions   Format\n",
      "  0  PRIMARY       1 PrimaryHDU      20   ()      \n",
      "  1  INTL-ORBI-SCP    1 BinTableHDU     90   417R x 16C   [4I, 1I, 1D, 1D, 1D, 1D, 1D, 1D, 1D, 1D, 1D, 1D, 1D, 1D, 1D, 1D]   \n"
     ]
    }
   ],
   "source": [
    "f.info()"
   ]
  },
  {
   "cell_type": "code",
   "execution_count": 131,
   "metadata": {
    "ExecuteTime": {
     "end_time": "2018-02-15T15:39:43.769339Z",
     "start_time": "2018-02-15T15:39:43.751003Z"
    }
   },
   "outputs": [],
   "source": [
    "def transform_via_matric(sc_matrix, ra, dec):\n",
    "    \n",
    "    \n",
    "    pos = polar2cart(ra,dec)\n",
    "    \n",
    "    X0 = np.dot(sc_matrix[0, :], pos)\n",
    "    X1 = np.dot(sc_matrix[1, :], pos)\n",
    "    X2 = np.dot(sc_matrix[2, :], pos)\n",
    "\n",
    "    lat = np.pi / 2. - np.arccos(X2)  # convert to proper frame\n",
    "\n",
    "    #idx = np.logical_and(np.abs(X0) < 1E-6, np.abs(X1) < 1E-6)\n",
    "\n",
    "    #log = np.zeros_like(el)\n",
    "\n",
    "    lon = np.arctan2(X1, X0) % (2 * np.pi)\n",
    "    \n",
    "    \n",
    "    return np.rad2deg(lon), np.rad2deg(lat)\n",
    "    \n",
    "    \n",
    "        \n",
    "        \n",
    "    "
   ]
  },
  {
   "cell_type": "code",
   "execution_count": 168,
   "metadata": {
    "ExecuteTime": {
     "end_time": "2018-02-15T19:16:02.276752Z",
     "start_time": "2018-02-15T19:16:02.271644Z"
    }
   },
   "outputs": [],
   "source": [
    "from astropy.coordinates import spherical_to_cartesian, cartesian_to_spherical, CartesianRepresentation"
   ]
  },
  {
   "cell_type": "code",
   "execution_count": 177,
   "metadata": {
    "ExecuteTime": {
     "end_time": "2018-02-16T08:26:45.100008Z",
     "start_time": "2018-02-16T08:26:45.094663Z"
    }
   },
   "outputs": [],
   "source": [
    "a=CartesianRepresentation(1,1,1)\n",
    "a."
   ]
  },
  {
   "cell_type": "code",
   "execution_count": 195,
   "metadata": {
    "ExecuteTime": {
     "end_time": "2018-02-16T08:35:39.098260Z",
     "start_time": "2018-02-16T08:35:39.089459Z"
    }
   },
   "outputs": [],
   "source": [
    "spherical_to_cartesian?"
   ]
  },
  {
   "cell_type": "code",
   "execution_count": 188,
   "metadata": {
    "ExecuteTime": {
     "end_time": "2018-02-16T08:29:08.086009Z",
     "start_time": "2018-02-16T08:29:08.078070Z"
    }
   },
   "outputs": [
    {
     "name": "stdout",
     "output_type": "stream",
     "text": [
      "45.0 35.2643896828\n"
     ]
    }
   ],
   "source": [
    "_, lat, lon = cartesian_to_spherical(1,1,1)\n",
    "print(lon.deg,lat.deg)"
   ]
  },
  {
   "cell_type": "code",
   "execution_count": 197,
   "metadata": {
    "ExecuteTime": {
     "end_time": "2018-02-16T08:37:08.939919Z",
     "start_time": "2018-02-16T08:37:08.915118Z"
    }
   },
   "outputs": [
    {
     "ename": "AttributeError",
     "evalue": "'tuple' object has no attribute 'value'",
     "output_type": "error",
     "traceback": [
      "\u001b[0;31m---------------------------------------------------------------------------\u001b[0m",
      "\u001b[0;31mAttributeError\u001b[0m                            Traceback (most recent call last)",
      "\u001b[0;32m<ipython-input-197-d2e9394f8f3e>\u001b[0m in \u001b[0;36m<module>\u001b[0;34m()\u001b[0m\n\u001b[0;32m----> 1\u001b[0;31m \u001b[0mspherical_to_cartesian\u001b[0m\u001b[0;34m(\u001b[0m\u001b[0;36m1.\u001b[0m\u001b[0;34m,\u001b[0m\u001b[0mnp\u001b[0m\u001b[0;34m.\u001b[0m\u001b[0mdeg2rad\u001b[0m\u001b[0;34m(\u001b[0m\u001b[0;36m30.\u001b[0m\u001b[0;34m)\u001b[0m\u001b[0;34m,\u001b[0m\u001b[0mnp\u001b[0m\u001b[0;34m.\u001b[0m\u001b[0mdeg2rad\u001b[0m\u001b[0;34m(\u001b[0m\u001b[0;36m20.\u001b[0m\u001b[0;34m)\u001b[0m\u001b[0;34m)\u001b[0m\u001b[0;34m.\u001b[0m\u001b[0mvalue\u001b[0m\u001b[0;34m\u001b[0m\u001b[0m\n\u001b[0m",
      "\u001b[0;31mAttributeError\u001b[0m: 'tuple' object has no attribute 'value'"
     ]
    }
   ],
   "source": [
    "spherical_to_cartesian(1.,np.deg2rad(30.),np.deg2rad(20.)).value"
   ]
  },
  {
   "cell_type": "code",
   "execution_count": 198,
   "metadata": {
    "ExecuteTime": {
     "end_time": "2018-02-16T08:40:34.815117Z",
     "start_time": "2018-02-16T08:40:34.799145Z"
    }
   },
   "outputs": [],
   "source": [
    "cartesian_to_spherical?"
   ]
  },
  {
   "cell_type": "code",
   "execution_count": 138,
   "metadata": {
    "ExecuteTime": {
     "end_time": "2018-02-15T17:31:45.498391Z",
     "start_time": "2018-02-15T17:31:45.488038Z"
    }
   },
   "outputs": [
    {
     "data": {
      "text/plain": [
       "(206.1563262939453,\n",
       " 50.5438346862793,\n",
       " 65.40575996001127,\n",
       " 32.51224513331057,\n",
       " 142.12562561035156,\n",
       " -19.81947135925293)"
      ]
     },
     "execution_count": 138,
     "metadata": {},
     "output_type": "execute_result"
    }
   ],
   "source": [
    "extract_sc_pointing(f[1],0)"
   ]
  },
  {
   "cell_type": "code",
   "execution_count": 124,
   "metadata": {
    "ExecuteTime": {
     "end_time": "2018-02-15T13:54:28.237820Z",
     "start_time": "2018-02-15T13:54:28.206301Z"
    }
   },
   "outputs": [
    {
     "data": {
      "text/plain": [
       "9.911455021418327"
      ]
     },
     "execution_count": 124,
     "metadata": {},
     "output_type": "execute_result"
    }
   ],
   "source": [
    "from astropy.coordinates import SkyCoord\n",
    "\n",
    "source = SkyCoord(ra=197.075, dec=58.98,unit='deg',frame='icrs')\n",
    "center = SkyCoord(ra=206.1563262939453, dec=50.5438346862793, unit='deg', frame='icrs')\n",
    "\n",
    "source.separation(center).value\n",
    "\n"
   ]
  },
  {
   "cell_type": "code",
   "execution_count": 132,
   "metadata": {
    "ExecuteTime": {
     "end_time": "2018-02-15T15:39:44.231725Z",
     "start_time": "2018-02-15T15:39:44.219340Z"
    }
   },
   "outputs": [
    {
     "data": {
      "text/plain": [
       "(9.887256967991247, -0.695638114653079)"
      ]
     },
     "execution_count": 132,
     "metadata": {},
     "output_type": "execute_result"
    }
   ],
   "source": [
    "sc_mat = construct_sc_matrix(*extract_sc_pointing(f[1],0))\n",
    "\n",
    "transform_via_matric(sc_mat,ra=197.075, dec=58.98 )"
   ]
  },
  {
   "cell_type": "code",
   "execution_count": 134,
   "metadata": {
    "ExecuteTime": {
     "end_time": "2018-02-15T15:41:18.138220Z",
     "start_time": "2018-02-15T15:41:18.104368Z"
    }
   },
   "outputs": [
    {
     "data": {
      "text/plain": [
       "9.904216597936284"
      ]
     },
     "execution_count": 134,
     "metadata": {},
     "output_type": "execute_result"
    }
   ],
   "source": [
    "source = SkyCoord(9.88,-0.6956381146530,unit='deg')\n",
    "#source = SkyCoord(0, 10,unit='deg')\n",
    "center = SkyCoord(0, 0,unit='deg',)\n",
    "\n",
    "source.separation(center).value"
   ]
  },
  {
   "cell_type": "code",
   "execution_count": 125,
   "metadata": {
    "ExecuteTime": {
     "end_time": "2018-02-15T13:54:33.173844Z",
     "start_time": "2018-02-15T13:54:33.160202Z"
    }
   },
   "outputs": [
    {
     "data": {
      "text/plain": [
       "(9.911455021418313, 355.955294968188)"
      ]
     },
     "execution_count": 125,
     "metadata": {},
     "output_type": "execute_result"
    }
   ],
   "source": [
    " transform(*extract_sc_pointing(f[1],0), ra=197.075, dec=58.98)"
   ]
  },
  {
   "cell_type": "code",
   "execution_count": 86,
   "metadata": {
    "ExecuteTime": {
     "end_time": "2018-02-14T15:50:22.796111Z",
     "start_time": "2018-02-14T15:50:22.776547Z"
    }
   },
   "outputs": [],
   "source": [
    "def cos_dir(sc_ra,sc_dec, ra, dec):\n",
    "    return np.sin(np.deg2rad(sc_dec)) * np.sin(np.deg2rad(dec)) + np.cos(np.deg2rad(sc_dec)) * np.cos(np.deg2rad(dec)) * np.cos(np.deg2rad(sc_ra- ra) )\n",
    "    \n",
    "    \n",
    "\n",
    "def transform(scx_ra, scx_dec, scy_ra, scy_dec, scz_ra, scz_dec, ra, dec):\n",
    "    \n",
    "    \n",
    "    \n",
    "    \n",
    "    cos_theta = cos_dir(scx_ra,scx_dec, ra, dec)\n",
    "    \n",
    "    \n",
    "    cos_theta = np.clip(cos_theta,-1.,1.)\n",
    "    \n",
    "    theta = np.rad2deg(np.arccos(cos_theta))\n",
    "    \n",
    "    cos_z = cos_dir(scz_ra,scz_dec, ra, dec)\n",
    "    cos_y = cos_dir(scy_ra,scy_dec, ra, dec)\n",
    "    \n",
    "    phi = np.rad2deg(np.arctan2(cos_z, cos_y))\n",
    "    \n",
    "    if phi < 0.0:\n",
    "        phi += 360.\n",
    "    \n",
    "    return theta, phi\n",
    "    \n",
    "   \n",
    "\n",
    "    \n",
    "    "
   ]
  },
  {
   "cell_type": "code",
   "execution_count": null,
   "metadata": {},
   "outputs": [],
   "source": [
    "Attribute()"
   ]
  }
 ],
 "metadata": {
  "kernelspec": {
   "display_name": "Python 2",
   "language": "python",
   "name": "python2"
  },
  "language_info": {
   "codemirror_mode": {
    "name": "ipython",
    "version": 2
   },
   "file_extension": ".py",
   "mimetype": "text/x-python",
   "name": "python",
   "nbconvert_exporter": "python",
   "pygments_lexer": "ipython2",
   "version": "2.7.15"
  },
  "toc": {
   "colors": {
    "hover_highlight": "#DAA520",
    "navigate_num": "#000000",
    "navigate_text": "#333333",
    "running_highlight": "#FF0000",
    "selected_highlight": "#FFD700",
    "sidebar_border": "#EEEEEE",
    "wrapper_background": "#FFFFFF"
   },
   "moveMenuLeft": true,
   "nav_menu": {
    "height": "4px",
    "width": "254px"
   },
   "navigate_menu": true,
   "number_sections": true,
   "sideBar": true,
   "threshold": 4,
   "toc_cell": false,
   "toc_section_display": "block",
   "toc_window_display": false,
   "widenNotebook": false
  },
  "varInspector": {
   "cols": {
    "lenName": 16,
    "lenType": 16,
    "lenVar": 40
   },
   "kernels_config": {
    "python": {
     "delete_cmd_postfix": "",
     "delete_cmd_prefix": "del ",
     "library": "var_list.py",
     "varRefreshCmd": "print(var_dic_list())"
    },
    "r": {
     "delete_cmd_postfix": ") ",
     "delete_cmd_prefix": "rm(",
     "library": "var_list.r",
     "varRefreshCmd": "cat(var_dic_list()) "
    }
   },
   "types_to_exclude": [
    "module",
    "function",
    "builtin_function_or_method",
    "instance",
    "_Feature"
   ],
   "window_display": false
  }
 },
 "nbformat": 4,
 "nbformat_minor": 2
}
